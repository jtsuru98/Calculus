{
 "cells": [
  {
   "cell_type": "code",
   "execution_count": 2,
   "id": "bdbfbbde",
   "metadata": {},
   "outputs": [],
   "source": [
    "import numpy as np"
   ]
  },
  {
   "cell_type": "code",
   "execution_count": 16,
   "id": "028c3051",
   "metadata": {},
   "outputs": [],
   "source": [
    "class ApproximateIntegration:\n",
    "    def __init__(self, a, b, n):\n",
    "        self.a = a\n",
    "        self.b = b\n",
    "        self.n = n\n",
    "        self.h = (self.b - self.a) / n\n",
    "    \n",
    "    @staticmethod\n",
    "    def f(x):\n",
    "        return np.exp(x**2)\n",
    "    \n",
    "    def trapezoidal_rule(self):\n",
    "        integral = 0.5 * (f(self.a) + f(self.b))  # first and last terms are halved\n",
    "        for i in range(1, self.n):\n",
    "            integral += f(self.a + i * self.h)  # middle terms - implicitly multiplied by two\n",
    "        approximate_area = integral * self.h\n",
    "        print(f'Trapezoidal Rule Result: {approximate_area:.6f}')\n",
    "\n",
    "    def trapezoidal_rule_error_estimate(self):\n",
    "        error_estimate = (f(self.b) * (self.b-self.a)**3) / (12 * self.n**2)\n",
    "        print(f\"Trapezoidal Rule Error Estimate Result: {error_estimate:.6f}\")\n",
    "\n",
    "    def midpoint_rule(self):\n",
    "        integral = 0\n",
    "        for i in range(self.n):\n",
    "            integral += f(self.a + (i + 0.5) * self.h)\n",
    "        approximate_area = integral * self.h\n",
    "        print(f\"Midpoint Rule Result: {approximate_area:.6f}\")\n",
    "\n",
    "    def midpoint_rule_error_estimate(self):\n",
    "        error_estimate = (f(self.b) * (self.b-self.a)**3) / (24 * self.n**2)\n",
    "        print(f\"Midpoint Rule Error Estimate Result: {error_estimate:.6f}\")\n",
    "\n",
    "    def simpsons_rule(self):\n",
    "        if self.n % 2 == 1:\n",
    "            raise ValueError(\"n must be an even number for Simpson's Rule\")\n",
    "        integral = f(self.a) + f(self.b)\n",
    "        for i in range(1, self.n):\n",
    "            if i % 2 == 0:\n",
    "                integral += 2 * f(self.a + i * self.h)\n",
    "            else:\n",
    "                integral += 4 * f(self.a + i * self.h)\n",
    "        approximate_area = integral * (self.h / 3)\n",
    "        print(f\"Simpson's Rule Result: {approximate_area:.6f}\")\n",
    "\n",
    "    def simpsons_rule_error_estimate(self):\n",
    "        error_estimate = (f(self.b) * (self.b-self.a)**5) / (180 * self.n**4)\n",
    "        print(f\"Simpson's Rule Error Estimate Result: {error_estimate:.6f}\")\n",
    "        "
   ]
  },
  {
   "cell_type": "code",
   "execution_count": 18,
   "id": "705d782e",
   "metadata": {},
   "outputs": [
    {
     "name": "stdout",
     "output_type": "stream",
     "text": [
      "Trapezoidal Rule Result: 1.467175\n",
      "Trapezoidal Rule Error Estimate Result: 0.002265\n",
      "Midpoint Rule Result: 1.460393\n",
      "Midpoint Rule Error Estimate Result: 0.001133\n",
      "Simpson's Rule Result: 1.462681\n",
      "Simpson's Rule Error Estimate Result: 0.000002\n"
     ]
    }
   ],
   "source": [
    "a = ApproximateIntegration(a=0, b=1, n=10)\n",
    "a.trapezoidal_rule()\n",
    "a.trapezoidal_rule_error_estimate()\n",
    "a.midpoint_rule()\n",
    "a.midpoint_rule_error_estimate()\n",
    "a.simpsons_rule()\n",
    "a.simpsons_rule_error_estimate()"
   ]
  },
  {
   "cell_type": "code",
   "execution_count": null,
   "id": "78893284",
   "metadata": {},
   "outputs": [],
   "source": []
  }
 ],
 "metadata": {
  "kernelspec": {
   "display_name": "Python 3 (ipykernel)",
   "language": "python",
   "name": "python3"
  },
  "language_info": {
   "codemirror_mode": {
    "name": "ipython",
    "version": 3
   },
   "file_extension": ".py",
   "mimetype": "text/x-python",
   "name": "python",
   "nbconvert_exporter": "python",
   "pygments_lexer": "ipython3",
   "version": "3.10.9"
  }
 },
 "nbformat": 4,
 "nbformat_minor": 5
}
