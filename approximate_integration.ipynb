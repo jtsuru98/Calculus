{
 "cells": [
  {
   "cell_type": "code",
   "execution_count": 1,
   "id": "bdbfbbde",
   "metadata": {},
   "outputs": [],
   "source": [
    "import numpy as np"
   ]
  },
  {
   "cell_type": "code",
   "execution_count": 9,
   "id": "028c3051",
   "metadata": {},
   "outputs": [],
   "source": [
    "def f(x):\n",
    "    return np.cbrt(x**3 - 27)\n",
    "\n",
    "def trapezoidal_rule(a, b, n):\n",
    "    h = (b - a) / n\n",
    "    integral = 0.5 * (f(a) + f(b))  # first and last terms are halved\n",
    "    for i in range(1, n):\n",
    "        integral += f(a + i * h)  # middle terms - implicitly multiplied by two\n",
    "    return integral * h\n",
    "\n",
    "def midpoint_rule(a, b, n):\n",
    "    h = (b - a) / n\n",
    "    integral = 0\n",
    "    for i in range(n):\n",
    "        integral += f(a + (i + 0.5) * h)\n",
    "    return integral * h\n",
    "\n",
    "def simpsons_rule(a, b, n):\n",
    "    if n % 2 == 1:\n",
    "        raise ValueError(\"n must be an even number for Simpson's Rule\")\n",
    "    h = (b - a) / n\n",
    "    integral = f(a) + f(b)\n",
    "    for i in range(1, n):\n",
    "        if i % 2 == 0:\n",
    "            integral += 2 * f(a + i * h)\n",
    "        else:\n",
    "            integral += 4 * f(a + i * h)\n",
    "    return integral * (h / 3)"
   ]
  },
  {
   "cell_type": "code",
   "execution_count": 13,
   "id": "e5d03e68",
   "metadata": {},
   "outputs": [
    {
     "name": "stdout",
     "output_type": "stream",
     "text": [
      "Trapezoidal Rule Result: -5.464787\n",
      "Midpoint Rule Result: -5.600468\n",
      "Simpson's Rule Result: -5.618189\n"
     ]
    }
   ],
   "source": [
    "a = 0\n",
    "b = 4\n",
    "n = 4\n",
    "\n",
    "print(f\"Trapezoidal Rule Result: {trapezoidal_rule(a, b, n):.6f}\")\n",
    "print(f\"Midpoint Rule Result: {midpoint_rule(a, b, n):.6f}\")\n",
    "print(f\"Simpson's Rule Result: {simpsons_rule(a, b, n):.6f}\")"
   ]
  },
  {
   "cell_type": "code",
   "execution_count": null,
   "id": "705d782e",
   "metadata": {},
   "outputs": [],
   "source": []
  }
 ],
 "metadata": {
  "kernelspec": {
   "display_name": "Python 3 (ipykernel)",
   "language": "python",
   "name": "python3"
  },
  "language_info": {
   "codemirror_mode": {
    "name": "ipython",
    "version": 3
   },
   "file_extension": ".py",
   "mimetype": "text/x-python",
   "name": "python",
   "nbconvert_exporter": "python",
   "pygments_lexer": "ipython3",
   "version": "3.10.9"
  }
 },
 "nbformat": 4,
 "nbformat_minor": 5
}
